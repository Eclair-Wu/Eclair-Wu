{
 "cells": [
  {
   "cell_type": "code",
   "execution_count": 12,
   "metadata": {},
   "outputs": [],
   "source": [
    "import numpy as np\n",
    "import matplotlib.pyplot as plt\n",
    "from pyscf.pbc import gto\n"
   ]
  },
  {
   "attachments": {},
   "cell_type": "markdown",
   "metadata": {},
   "source": [
    "\n",
    "\n"
   ]
  },
  {
   "attachments": {},
   "cell_type": "markdown",
   "metadata": {},
   "source": [
    "数值原子轨道\n",
    "\n",
    "优点：相比平面波可大幅度减少基函数数量\n",
    "\n",
    "缺点：但是存在eggbox效应，需要大量密集格点做格点积分"
   ]
  },
  {
   "attachments": {},
   "cell_type": "markdown",
   "metadata": {},
   "source": [
    "Kohn-Sham 方程:$\\hat{H}\\psi_i={\\epsilon}_i\\psi_i$\n",
    "\n",
    "$\\hat{H}=\\hat{T}+\\hat{V}_{ext}+\\hat{V}_{Hatree}+\\hat{V}_{xc}+E_{ion}$\n",
    "\n",
    "给定一组数值原子轨道基组$\\{\\phi_j\\}$,则$\\psi_i=\\sum_{j}C_{ij}\\phi_j$\n",
    "\n",
    "KS方程转化为一个矩阵方程：$HC=SCE$\n",
    "\n",
    "问题转化为计算在该基组下的矩阵元\n",
    "\n",
    "\n",
    "\n",
    "\n",
    "\n",
    "\n",
    "\n",
    "\n"
   ]
  },
  {
   "cell_type": "code",
   "execution_count": 2,
   "metadata": {},
   "outputs": [
    {
     "data": {
      "text/plain": [
       "<pyscf.pbc.gto.cell.Cell at 0x7fa70a33bd00>"
      ]
     },
     "execution_count": 2,
     "metadata": {},
     "output_type": "execute_result"
    }
   ],
   "source": [
    "Lenth = 4\n",
    "Mesh = 10\n",
    "Image = 2\n",
    "images= [Image]*3\n",
    "cell = gto.Cell()\n",
    "cell.a = np.eye(3)*Lenth\n",
    "cell.atom = 'He 2 2 2'\n",
    "cell.mesh = np.array([Mesh]*3)\n",
    "cell.unit = 'Bohr'\n",
    "cell.basis = 'unc-sto-3g'\n",
    "cell.build()\n",
    "\n",
    "\n"
   ]
  },
  {
   "attachments": {},
   "cell_type": "markdown",
   "metadata": {},
   "source": [
    "利用pyscf中gto类创建cell对象，构建晶胞\n",
    "\n",
    "参数 \n",
    "\n",
    "a:晶胞基矢量\n",
    "\n",
    "atom:原子种类及坐标\n",
    "\n",
    "mesh:格点数目\n",
    "\n",
    "basis:基组形式，此处使用“unc-sto-3g\",指3个Gaussian函数拟合一个slater函数\n",
    "\n",
    "images:考虑镜像数目\n",
    "\n",
    "最后利用build方法完成晶胞的构建，此处构建了一个正交晶系的He原子晶胞\n",
    "\n"
   ]
  },
  {
   "cell_type": "code",
   "execution_count": 3,
   "metadata": {},
   "outputs": [],
   "source": [
    "\n",
    "def get_grids(cell):\n",
    "    grids_x = np.arange(cell.mesh[0]) / cell.mesh[0]\n",
    "    grids_y = np.arange(cell.mesh[1]) / cell.mesh[1]\n",
    "    grids_z = np.arange(cell.mesh[2]) / cell.mesh[2]\n",
    "    grids=[]\n",
    "    for x in range(cell.mesh[0]):\n",
    "        for y in range(cell.mesh[1]):\n",
    "            for z in range(cell.mesh[2]):\n",
    "                grid=np.einsum('i,ij->j', (grids_x[x], grids_y[y], grids_z[z]), cell.a)\n",
    "                grids.append(grid)\n",
    "    return np.array(grids)\n",
    "\n",
    "def get_lattice(cell, images):\n",
    "    Ls=[]\n",
    "    for x in range(-images[0], images[0]+1):\n",
    "        for y in range(-images[1], images[1]+1):\n",
    "            for z in range(-images[2], images[2]+1):\n",
    "                L = np.einsum('i,ij->j', (x, y, z), cell.a)\n",
    "                Ls.append(L)    \n",
    "    return np.array(Ls)\n",
    "\n",
    "def get_ao(cell,images):\n",
    "    cell = cell.copy()\n",
    "    grids = get_grids(cell)\n",
    "    Ls = get_lattice(cell, images)\n",
    "    atom = cell.atom_coords()\n",
    "    ao=0\n",
    "    for L in Ls:\n",
    "        cell.atom =[['He', atom[0]+L]]\n",
    "        cell.build()\n",
    "        ao += cell.eval_gto('GTOval', grids)\n",
    "    return ao\n",
    "\n",
    "\n"
   ]
  },
  {
   "attachments": {},
   "cell_type": "markdown",
   "metadata": {},
   "source": [
    "$\\phi(\\mathbf{r})=\\frac{1}{\\sqrt{N}}\\sum_{\\mathbf{L}}\\mu(\\mathbf{r-L})$\n",
    "\n",
    "$\\phi(\\mathbf{G})=\\int d\\mathbf{r}e^{-i\\mathbf{Gr}}\\phi(\\mathbf{r})$"
   ]
  },
  {
   "cell_type": "code",
   "execution_count": 5,
   "metadata": {},
   "outputs": [],
   "source": [
    "from pyscf.pbc.tools import fft,ifft\n",
    "from pyscf.pbc import df\n",
    "def G_vector(cell,mesh):\n",
    "    x=np.fft.fftfreq(mesh[0],1/mesh[0])\n",
    "    y=np.fft.fftfreq(mesh[1],1/mesh[1])\n",
    "    z=np.fft.fftfreq(mesh[2],1/mesh[2])\n",
    "    b=cell.reciprocal_vectors()\n",
    "    Gs=[]\n",
    "    for i in x:\n",
    "        for j in y:\n",
    "            for k in z:\n",
    "                Gs.append(i*b[0]+j*b[1]+k*b[2])\n",
    "    return np.array(Gs)\n",
    "\n",
    "def get_aoG_values(cell,images):\n",
    "    ao = get_ao(cell,images)\n",
    "    nao = ao.shape[1]\n",
    "    ao_G = []\n",
    "\n",
    "    image_sum=(2*images[0]+1)*(2*images[1]+1)*(2*images[2]+1)\n",
    "    for i in range(nao):\n",
    "        ao_G.append(cell.vol/8/image_sum*fft(ao[:,i],cell.mesh)) \n",
    "    ao_G = np.array(ao_G).T\n",
    "    return ao_G\n",
    "\n",
    "def overlap1(cell,images):\n",
    "    ao = get_ao(cell,images)\n",
    "    weight = cell.vol/(cell.mesh[0]*cell.mesh[1]*cell.mesh[2])\n",
    "    overlap = np.einsum('xy,xz->yz',ao, ao,optimize=True)*weight\n",
    "    return overlap\n",
    "def overlap2(cell,images):\n",
    "    cell_1 = cell.copy()\n",
    "    Ls = get_lattice(cell, images)\n",
    "    overlap = 0\n",
    "    atom = cell.atom_coords()\n",
    "    for L in Ls:\n",
    "        cell_1.atom =[['He', atom[0]+L]]\n",
    "        cell_1.build()\n",
    "        overlap += gto.intor_cross('int1e_ovlp',cell,cell_1)\n",
    "    image_sum=(2*images[0]+1)/(2*images[1]+1)/(2*images[2]+1)\n",
    "    return overlap/image_sum\n",
    "def overlap3(cell,images):\n",
    "    ao_G = get_aoG_values(cell,images)\n",
    "    weight = 1/cell.vol\n",
    "    overlap = np.einsum('xy,xz->yz',ao_G.conj(), ao_G,optimize=True)*weight\n",
    "    return np.real(overlap)\n",
    "\n",
    "\n",
    "\n",
    "\n",
    "\n",
    "    "
   ]
  },
  {
   "attachments": {},
   "cell_type": "markdown",
   "metadata": {},
   "source": [
    "1:$\\braket{\\phi_i|\\phi_j}=\\sum_{\\mathbf{r}}\\omega\\phi_i^*(\\mathbf{r})\\phi_j(\\mathbf{r})$\n",
    "\n",
    "2:$\\braket{\\phi_i|\\phi_j}=\\sum_{\\mathbf{L}}\\int d\\mathbf{r}\\phi_i^*(\\mathbf{r})\\phi_j(\\mathbf{r-L})$\n",
    "\n",
    "3:$\\braket{\\phi_i|\\phi_j}=\\sum_{\\mathbf{G}}\\omega\\phi_i^*(\\mathbf{G})\\phi_j(\\mathbf{G})$"
   ]
  },
  {
   "cell_type": "code",
   "execution_count": 6,
   "metadata": {},
   "outputs": [],
   "source": [
    "from pyscf.pbc.dft.numint import eval_ao\n",
    "\n",
    "def kinetic(cell):\n",
    "    cell = cell.copy()\n",
    "    grids = get_grids(cell)\n",
    "    ao,ao_dx,ao_dy,ao_dz = eval_ao(cell,grids, deriv=1)\n",
    "    weight = cell.vol/(cell.mesh[0]*cell.mesh[1]*cell.mesh[2])\n",
    "    t = (np.einsum('xy,xz->yz',ao_dx, ao_dx,optimize=True)\n",
    "    +np.einsum('xy,xz->yz',ao_dy, ao_dy,optimize=True)\n",
    "    +np.einsum('xy,xz->yz',ao_dz, ao_dz,optimize=True))*1/2*weight\n",
    "    return t\n",
    "\n"
   ]
  },
  {
   "attachments": {},
   "cell_type": "markdown",
   "metadata": {},
   "source": [
    "$\\bra{\\phi_i}-\\frac{1}{2}\\nabla^2\\ket{\\phi_j}=\\frac{1}{2}\\sum_{\\mathbf{r}}\\omega(\\nabla\\phi_i^*)(\\nabla\\phi_j)$"
   ]
  },
  {
   "cell_type": "code",
   "execution_count": 7,
   "metadata": {},
   "outputs": [],
   "source": [
    "def nuc(cell,images):\n",
    "    atom = cell.atom_coords()\n",
    "    Gv = G_vector(cell,cell.mesh)\n",
    "    si = np.exp(-1j*np.einsum('zs,xs->zx', atom, Gv))\n",
    "    rho_nuc_G = -np.einsum('z,zx->x', cell.atom_charges(), si)\n",
    "\n",
    "    ao = get_ao(cell,images)\n",
    "    nao = ao.shape[1]\n",
    "    pair_ao_real_space = np.einsum('xi,xj->xij', ao.conj(), ao)\n",
    "    pair_ao_G_space = ifft(pair_ao_real_space.reshape(-1,nao**2).T,\n",
    "                           cell.mesh).T.reshape(-1,nao,nao) * cell.vol\n",
    "\n",
    "    w = 1/cell.vol\n",
    "    G2 = np.einsum('xs,xs->x', Gv, Gv)\n",
    "    coulG = 4 * np.pi / G2\n",
    "    coulG[G2 == 0] = 0\n",
    "\n",
    "    v = w * np.einsum('x,x,xij->ij', rho_nuc_G, coulG, pair_ao_G_space)\n",
    "    return v"
   ]
  },
  {
   "attachments": {},
   "cell_type": "markdown",
   "metadata": {},
   "source": [
    "$\\bra{\\phi_i}V_{ext}\\ket{\\phi_j}\\\\\n",
    "=\\sum_{\\mathbf{L}}\\sum_{\\mathbf{L}^{'}}\\int d\\mathbf{r}\\phi_i^*(\\mathbf{r})\\phi_j(\\mathbf{r-L})\\frac{Z}{|\\mathbf{r-R-L^{'}}|}\\\\\n",
    "=\\sum_{\\mathbf{L}}\\sum_{\\mathbf{L}^{'}}\\int d\\mathbf{r}\\phi_i^*(\\mathbf{r-L^{'}})\\phi_j(\\mathbf{r-L})\\frac{Z}{|\\mathbf{r-R}|}\\\\\n",
    "=\\sum_{\\mathbf{G}}\\omega\\rho(\\mathbf{G})V_{ext}(\\mathbf{G})$\n",
    "\n",
    "$\\rho(\\mathbf{G})=\\sum_{\\mathbf{L}}\\sum_{\\mathbf{L}^{'}}\\int d\\mathbf{r}e^{-i\\mathbf{Gr}}\\phi_i^*(\\mathbf{r-L^{'}})\\phi_j(\\mathbf{r-L})$\n",
    "\n",
    "$V_{ext}(\\mathbf{G})=\\frac{4\\pi}{G^2}\\int d\\mathbf{r}e^{-i\\mathbf{Gr}}Z\\delta(\\mathbf{r-R})$\n",
    "\n",
    "$\\bra{\\phi_i\\phi_j}r_{12}\\ket{\\phi_k\\phi_l}\\\\\n",
    "=\\int d\\mathbf{r}d\\mathbf{r^{'}}\\phi_i^*(\\mathbf{r})\\phi_j(\\mathbf{r})r_{12}\\phi_k^*(\\mathbf{r^{'}})\\phi_l(\\mathbf{r^{'}})\\\\\n",
    "=\\sum_{\\mathbf{G}}\\omega\\frac{4\\pi}{G^2}\\rho_{ij}(\\mathbf{G})\\rho_{kl}(\\mathbf{-G})$"
   ]
  },
  {
   "cell_type": "code",
   "execution_count": 8,
   "metadata": {},
   "outputs": [],
   "source": [
    "def get_eri(cell):\n",
    "    Gv = G_vector(cell,cell.mesh)\n",
    "\n",
    "    ao = get_ao(cell,images)\n",
    "    nao = ao.shape[1]\n",
    "\n",
    "    pair_ao_real_space = np.einsum('xi,xj->xij', ao.conj(), ao)\n",
    "    weight = cell.vol / np.prod(cell.mesh)\n",
    "    pair_ao_G_space = fft(pair_ao_real_space.reshape(-1,nao**2).T,\n",
    "                          cell.mesh).T.reshape(-1,nao,nao) * weight\n",
    "    pair_ao_G_inv_space = ifft(pair_ao_real_space.reshape(-1,nao**2).T,\n",
    "                               cell.mesh).T.reshape(-1,nao,nao) * cell.vol\n",
    "\n",
    "    w = 1./cell.vol\n",
    "    G2 = np.einsum('xs,xs->x', Gv, Gv)\n",
    "    coulG = 4 * np.pi / G2\n",
    "    coulG[G2 == 0] = 0\n",
    "\n",
    "    eri = w * np.einsum('x,xij,xkl->ijkl', coulG,pair_ao_G_space,pair_ao_G_inv_space)\n",
    "    return np.real(eri)\n",
    "def get_jk(eri,dm):\n",
    "    j = np.einsum('ijkl,ij->kl',eri,dm)\n",
    "    k = np.einsum('ijkl,jk->il',eri,dm)\n",
    "    vhf = j-.5*k\n",
    "    e = np.einsum('ij,ji',vhf,dm)\n",
    "    return vhf,e\n",
    "\n"
   ]
  },
  {
   "cell_type": "code",
   "execution_count": 9,
   "metadata": {},
   "outputs": [],
   "source": [
    "def get_vxc(cell, dm, xc):\n",
    "    from pyscf.dft import libxc\n",
    "    aoR = get_ao(cell,images)\n",
    "    pair_ao = np.einsum('xi,xj->xij', aoR.conj(), aoR)\n",
    "    rho = np.einsum('xij,ji->x', pair_ao, dm)\n",
    "    e_xc, v_xc = libxc.eval_xc(xc, rho,)[:2]\n",
    "    v_xc = v_xc[0]\n",
    "    w = cell.vol/(cell.mesh[0]*cell.mesh[1]*cell.mesh[2])\n",
    "    vxc = w * np.einsum('xij,x->ij', pair_ao, v_xc)\n",
    "    E_xc = w * np.einsum('x,x', rho, e_xc)\n",
    "    return vxc, E_xc"
   ]
  },
  {
   "cell_type": "code",
   "execution_count": 11,
   "metadata": {},
   "outputs": [
    {
     "name": "stderr",
     "output_type": "stream",
     "text": [
      "/var/folders/n1/1gq314tx0qg8482k2z_nxzpc0000gn/T/ipykernel_41348/4094117612.py:15: RuntimeWarning: divide by zero encountered in divide\n",
      "  coulG = 4 * np.pi / G2\n"
     ]
    },
    {
     "name": "stdout",
     "output_type": "stream",
     "text": [
      "E_ewald = -1.418648739741054\n",
      "SCF cycle 1 E(HF) = (-1.7518484886980015+1.0424134390260785e-17j) dE = 3.1704972284390553\n",
      "SCF cycle 2 E(HF) = (-2.2723122724500966+3.3308041228425873e-18j) dE = 0.5204637837520951\n",
      "SCF cycle 3 E(HF) = (-2.14891299161144+5.99375410157883e-18j) dE = 0.12339928083865681\n",
      "SCF cycle 4 E(HF) = (-2.224078776938229+4.7577607722856885e-18j) dE = 0.07516578532678908\n",
      "SCF cycle 5 E(HF) = (-2.1946574248574824+5.294904873503215e-18j) dE = 0.029421352080746477\n",
      "SCF cycle 6 E(HF) = (-2.208530365425796+5.05378022216452e-18j) dE = 0.013872940568313563\n",
      "SCF cycle 7 E(HF) = (-2.2025170972575783+5.160546963846455e-18j) dE = 0.006013268168217678\n",
      "SCF cycle 8 E(HF) = (-2.205222124814335+5.112976674655074e-18j) dE = 0.0027050275567566118\n",
      "SCF cycle 9 E(HF) = (-2.2040252778367555+5.134113702968512e-18j) dE = 0.00119684697757938\n",
      "SCF cycle 10 E(HF) = (-2.2045587350547438+5.12471031718684e-18j) dE = 0.0005334572179882535\n",
      "SCF cycle 11 E(HF) = (-2.2043217400927624+5.1288913960093564e-18j) dE = 0.00023699496198137382\n",
      "SCF cycle 12 E(HF) = (-2.2044271813461833+5.127031889961873e-18j) dE = 0.0001054412534209348\n",
      "SCF cycle 13 E(HF) = (-2.2043802999064104+5.127858803488797e-18j) dE = 4.6881439772938904e-05\n"
     ]
    },
    {
     "name": "stderr",
     "output_type": "stream",
     "text": [
      "/var/folders/n1/1gq314tx0qg8482k2z_nxzpc0000gn/T/ipykernel_41348/808979765.py:16: RuntimeWarning: divide by zero encountered in divide\n",
      "  coulG = 4 * np.pi / G2\n"
     ]
    }
   ],
   "source": [
    "import scipy.linalg\n",
    "hcore = kinetic(cell) + nuc(cell,images)\n",
    "s = overlap3(cell,images)\n",
    "eri = get_eri(cell)\n",
    "dm = np.zeros_like(s)\n",
    "vhf, E_coul = get_jk( eri,dm)\n",
    "fock = hcore + vhf\n",
    "e, c = scipy.linalg.eigh(fock, s)\n",
    "dm = 2*c[:,:1].T @ c[:,:1]\n",
    "\n",
    "E_ewald = cell.ewald()\n",
    "print('E_ewald =', E_ewald)\n",
    "E = -E_ewald\n",
    "dE = 1e99\n",
    "\n",
    "cycle = 0\n",
    "while dE > 1e-4:\n",
    "        cycle += 1\n",
    "        Elast = E\n",
    "\n",
    "        fock = hcore + vhf\n",
    "        e, c = scipy.linalg.eigh(fock, s)\n",
    "        dm = np.einsum('pi,qi->pq', c[:,:1], c[:,:1].conj()) * 2\n",
    "        vhf, E_coul = get_jk(eri,dm)\n",
    "\n",
    "        E_elec = np.einsum('ij,ji', hcore, dm) + E_coul\n",
    "        E = -E_ewald + E_elec\n",
    "        dE = abs(E - Elast)\n",
    "        print('SCF cycle', cycle, 'E(HF) =', E, 'dE =', dE)\n"
   ]
  },
  {
   "cell_type": "code",
   "execution_count": null,
   "metadata": {},
   "outputs": [
    {
     "name": "stdout",
     "output_type": "stream",
     "text": [
      "[[[-2.13162821e-14+8.23707697e-19j -2.53130850e-14+2.04181294e-19j\n",
      "   -1.99840144e-15+7.23595578e-20j]\n",
      "  [-2.62012634e-14+2.04181294e-19j  3.10862447e-15-2.82205592e-21j\n",
      "   -1.99840144e-15-7.07303764e-20j]\n",
      "  [-1.99840144e-15+7.23595578e-20j -2.22044605e-15-7.07303764e-20j\n",
      "   -2.88657986e-15-8.94547297e-19j]]\n",
      "\n",
      " [[-2.22044605e-14+8.23707697e-19j -1.37667655e-14+2.04099219e-19j\n",
      "   -3.99680289e-15-7.00992463e-18j]\n",
      "  [-1.28785871e-14+2.04220351e-19j -1.37667655e-14-1.61559947e-21j\n",
      "   -2.22044605e-15-8.49689592e-18j]\n",
      "  [-3.33066907e-15+7.05738554e-18j -1.99840144e-15+8.48744263e-18j\n",
      "   -1.88737914e-15-8.73942616e-19j]]\n",
      "\n",
      " [[-2.22044605e-14+8.23707697e-19j -1.28785871e-14+2.04243870e-19j\n",
      "   -3.33066907e-15+7.16811583e-18j]\n",
      "  [-1.37667655e-14+2.04115202e-19j -1.37667655e-14-1.43852012e-21j\n",
      "   -2.22044605e-15+8.08285010e-18j]\n",
      "  [-3.99680289e-15-7.16977596e-18j -1.99840144e-15-9.64165933e-18j\n",
      "   -1.88737914e-15-6.70760587e-19j]]]\n"
     ]
    },
    {
     "name": "stderr",
     "output_type": "stream",
     "text": [
      "/var/folders/n1/1gq314tx0qg8482k2z_nxzpc0000gn/T/ipykernel_81091/534586399.py:7: DeprecationWarning: `np.complex` is a deprecated alias for the builtin `complex`. To silence this warning, use `complex` by itself. Doing this will not modify any behavior and is safe. If you specifically wanted the numpy scalar type, use `np.complex128` here.\n",
      "Deprecated in NumPy 1.20; for more details and guidance: https://numpy.org/devdocs/release/1.20.0-notes.html#deprecations\n",
      "  rho = np.zeros(ngrids, dtype=np.complex)\n",
      "/var/folders/n1/1gq314tx0qg8482k2z_nxzpc0000gn/T/ipykernel_81091/534586399.py:20: RuntimeWarning: divide by zero encountered in divide\n",
      "  coulG = 4 * np.pi / G2\n"
     ]
    }
   ],
   "source": [
    "def get_ao_values_ref(cell, kpt):\n",
    "    grids = get_grids(cell)\n",
    "    ao = cell.pbc_eval_gto('GTOval', grids, kpt=kpt)\n",
    "    return np.array(ao)\n",
    "def get_j(cell, dm, kpts1, kpts2):\n",
    "    ngrids = np.prod(cell.mesh)\n",
    "    rho = np.zeros(ngrids, dtype=np.complex)\n",
    "    for k, kpt in enumerate(kpts1):\n",
    "        aoR = get_ao_values_ref(cell, kpt)\n",
    "        pair_ao_real_space = np.einsum('xi,xj->xij', aoR.conj(), aoR)\n",
    "        rho += np.einsum('xij,ji->x', pair_ao_real_space, dm[k])\n",
    "    rho *= 1./len(kpts1)\n",
    "\n",
    "    rhoG = fft(rho, cell.mesh) * cell.vol / np.prod(cell.mesh)\n",
    "\n",
    "    w = 1./cell.vol\n",
    "    nao = cell.nao_nr()\n",
    "    Gv = cell.get_Gv()\n",
    "    G2 = np.einsum('xs,xs->x', Gv, Gv)\n",
    "    coulG = 4 * np.pi / G2\n",
    "    coulG[G2 == 0] = 0\n",
    "    vj_kpts = []\n",
    "   \n",
    "    for k, kpt in enumerate(kpts2):\n",
    "        aoR = get_ao_values_ref(cell, kpt)\n",
    "        pair_ao_real_space = np.einsum('xi,xj->xij', aoR.conj(), aoR)\n",
    "        pair_ao_G_inv_space = ifft(pair_ao_real_space.reshape(-1,nao**2).T,cell.mesh).T.reshape(-1,nao,nao) * cell.vol\n",
    "        vj = w * np.einsum('x,x,xij->ij', rhoG, coulG, pair_ao_G_inv_space)\n",
    "        vj_kpts.append(vj)\n",
    "    vj_kpts = np.array(vj_kpts)\n",
    "    return vj_kpts\n",
    "kpts1 = cell.make_kpts([2,1,1])\n",
    "kpts2 = cell.make_kpts([1,3,1])\n",
    "dm = cell.pbc_intor('int1e_ovlp', kpts=kpts1)\n",
    "from pyscf.pbc import scf\n",
    "a=scf.KRHF(cell, kpts1).get_j(cell, dm, kpts=kpts1, kpts_band=kpts2)\n",
    "b = get_j(cell, dm, kpts1, kpts2)\n",
    "print(a-b)"
   ]
  }
 ],
 "metadata": {
  "kernelspec": {
   "display_name": "md",
   "language": "python",
   "name": "python3"
  },
  "language_info": {
   "codemirror_mode": {
    "name": "ipython",
    "version": 3
   },
   "file_extension": ".py",
   "mimetype": "text/x-python",
   "name": "python",
   "nbconvert_exporter": "python",
   "pygments_lexer": "ipython3",
   "version": "3.8.16"
  },
  "orig_nbformat": 4
 },
 "nbformat": 4,
 "nbformat_minor": 2
}
